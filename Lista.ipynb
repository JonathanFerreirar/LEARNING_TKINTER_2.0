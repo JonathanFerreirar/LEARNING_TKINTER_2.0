{
 "cells": [
  {
   "cell_type": "code",
   "execution_count": null,
   "metadata": {},
   "outputs": [],
   "source": [
    "#import pandas    0_importa o pandas\n",
    "\n",
    "#IR_LISTA = {'NOME':[], 'CPF':[], 'SENHA':[], 'TELEFONE':[], 'PAGO':[]}   1_Criar as colunas\n",
    "\n",
    "#lista_iR = pandas.DataFrame(data=IR_LISTA)  2_Transforma em um dataframe\n",
    "\n",
    "#lista_iR.to_csv('Lista_clientes_IR.csv')   _Criar o arquivo nesse caso em formato csv"
   ]
  },
  {
   "cell_type": "code",
   "execution_count": 1,
   "metadata": {},
   "outputs": [],
   "source": [
    "import pandas\n",
    "\n",
    "from clase import ClienteIR\n",
    "from clase import editar, deletar\n",
    "\n",
    "\n",
    "#IR_LISTA = {'NOME':[], 'CPF':[], 'SENHA':[], 'TELEFONE':[], 'PAGO':[]}\n",
    "\n",
    "#cliente1 = ClienteIR(nome='Jonathan', cpf='65376524377',senha='3111Carlos',pago='SIM')\n",
    "\n",
    "\n",
    "arquivo = pandas.read_csv('Lista_clientes_IR.csv')\n",
    "lista_iR = pandas.DataFrame(data=arquivo)\n",
    "lista_iR = lista_iR.drop(columns='Unnamed: 0')\n",
    "\n",
    "#lista_iR = pandas.DataFrame(data=IR_LISTA)\n",
    "\n",
    "#lista_iR.to_csv('Lista_clientes_IR.csv')\n"
   ]
  },
  {
   "cell_type": "code",
   "execution_count": 3,
   "metadata": {},
   "outputs": [
    {
     "name": "stdout",
     "output_type": "stream",
     "text": [
     
     ]
    }
   ],
   "source": [
    "deletar('testando novamente')\n",
    "\n",
    "#desfazer = pandas.read_csv('Lista_clientes_IR.csv')\n",
    "#print(desfazer)\n",
    "\n",
    "\n",
    "\n",
    "#cliente1.deletar()\n",
    "\n",
    "\n"
   ]
  }
 ],
 "metadata": {
  "kernelspec": {
   "display_name": "Python 3.10.5 ('env': venv)",
   "language": "python",
   "name": "python3"
  },
  "language_info": {
   "codemirror_mode": {
    "name": "ipython",
    "version": 3
   },
   "file_extension": ".py",
   "mimetype": "text/x-python",
   "name": "python",
   "nbconvert_exporter": "python",
   "pygments_lexer": "ipython3",
   "version": "3.10.5"
  },
  "orig_nbformat": 4,
  "vscode": {
   "interpreter": {
    "hash": "90b590de1f925265614a1e7917d9e333d704fb744881a8549d749fdb194ad773"
   }
  }
 },
 "nbformat": 4,
 "nbformat_minor": 2
}
